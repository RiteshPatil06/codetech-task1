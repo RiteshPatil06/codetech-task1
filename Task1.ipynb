{
 "cells": [
  {
   "cell_type": "code",
   "execution_count": null,
   "id": "bfe5b560-093d-43ce-a640-7f319796ff58",
   "metadata": {},
   "outputs": [],
   "source": [
    "import pandas as pd\n",
    "from sklearn.impute import SimpleImputer\n",
    "from sklearn.preprocessing import OneHotEncoder, LabelEncoder, StandardScaler\n",
    "from sklearn.compose import ColumnTransformer\n",
    "from sklearn.pipeline import Pipeline\n",
    "from datetime import datetime"
   ]
  },
  {
   "cell_type": "markdown",
   "id": "b4779e5f-cfc5-4ce4-ade0-85a32e7a6f81",
   "metadata": {},
   "source": [
    "# Load the dataset"
   ]
  },
  {
   "cell_type": "code",
   "execution_count": null,
   "id": "840839bd-1b6d-4d7e-b8c2-fd45ba4329ae",
   "metadata": {},
   "outputs": [],
   "source": [
    "file_path = '/mnt/data/IPL Matches 2008-2020.csv'\n",
    "data = pd.read_csv(file_path)"
   ]
  },
  {
   "cell_type": "markdown",
   "id": "591efebf-9cc0-4c91-a99e-1d7401154393",
   "metadata": {},
   "source": [
    "# Step 1: Handle missing values\n",
    "# Fill missing categorical values with 'Unknown'"
   ]
  },
  {
   "cell_type": "code",
   "execution_count": null,
   "id": "328bbc4f-1fa6-4599-8243-04118d559308",
   "metadata": {},
   "outputs": [],
   "source": [
    "data['city'].fillna('Unknown', inplace=True)\n",
    "data['player_of_match'].fillna('Unknown', inplace=True)\n",
    "data['winner'].fillna('Unknown', inplace=True)\n",
    "data['result'].fillna('No Result', inplace=True)\n",
    "data['eliminator'].fillna('Unknown', inplace=True)\n",
    "data['method'].fillna('Unknown', inplace=True)"
   ]
  },
  {
   "cell_type": "markdown",
   "id": "a5c92179-9b11-4b60-aa2a-8abc2a47dd52",
   "metadata": {},
   "source": [
    "# Fill missing numerical values with median"
   ]
  },
  {
   "cell_type": "code",
   "execution_count": null,
   "id": "f418e920-90d9-45a4-833c-81b00b539476",
   "metadata": {},
   "outputs": [],
   "source": [
    "data['result_margin'].fillna(data['result_margin'].median(), inplace=True)"
   ]
  },
  {
   "cell_type": "markdown",
   "id": "15e9b376-fd05-4521-a3ed-6ec902817a06",
   "metadata": {},
   "source": [
    "# Step 2: Transform 'date' column to datetime format"
   ]
  },
  {
   "cell_type": "code",
   "execution_count": null,
   "id": "5bf5dc0f-dc4f-4dba-a932-b8f5c8d5372b",
   "metadata": {},
   "outputs": [],
   "source": [
    "data['date'] = pd.to_datetime(data['date'])"
   ]
  },
  {
   "cell_type": "markdown",
   "id": "66ffd1c0-eedf-42e0-be99-e1584f616bfd",
   "metadata": {},
   "source": [
    "# Step 3: Encoding categorical columns"
   ]
  },
  {
   "cell_type": "code",
   "execution_count": null,
   "id": "89c4fc53-813c-427b-b111-0e76bed07485",
   "metadata": {},
   "outputs": [],
   "source": [
    "categorical_columns = ['city', 'venue', 'team1', 'team2', 'toss_winner', 'toss_decision', 'winner', 'eliminator', 'method']\n",
    "numerical_columns = ['result_margin']"
   ]
  },
  {
   "cell_type": "markdown",
   "id": "fa131ce7-bb8b-4d74-87dd-6839d2aa47cb",
   "metadata": {},
   "source": [
    "# One-hot encoding for categorical features and scaling for numerical features"
   ]
  },
  {
   "cell_type": "code",
   "execution_count": null,
   "id": "958c1571-4472-4d39-8cb3-12720543978d",
   "metadata": {},
   "outputs": [],
   "source": [
    "preprocessor = ColumnTransformer(\n",
    "    transformers=[\n",
    "        ('num', StandardScaler(), numerical_columns),\n",
    "        ('cat', OneHotEncoder(handle_unknown='ignore'), categorical_columns)\n",
    "    ]\n",
    ")"
   ]
  },
  {
   "cell_type": "markdown",
   "id": "79472615-ced7-4cc3-94f5-d5fd53721354",
   "metadata": {},
   "source": [
    "# Step 4: Build the pipeline\n"
   ]
  },
  {
   "cell_type": "code",
   "execution_count": null,
   "id": "947c8617-4b1f-47dd-adca-88679415eb5d",
   "metadata": {},
   "outputs": [],
   "source": [
    "pipeline = Pipeline(steps=[\n",
    "    ('preprocessor', preprocessor)\n",
    "])\n"
   ]
  },
  {
   "cell_type": "code",
   "execution_count": null,
   "id": "1f0e6dac-1d68-40cd-b941-12e91aed3fbb",
   "metadata": {},
   "outputs": [],
   "source": [
    "# Apply transformations\n"
   ]
  },
  {
   "cell_type": "code",
   "execution_count": null,
   "id": "21acc1ea-b9a3-4c76-b556-fe3de6787c48",
   "metadata": {},
   "outputs": [],
   "source": [
    "processed_data = pipeline.fit_transform(data)"
   ]
  },
  {
   "cell_type": "code",
   "execution_count": null,
   "id": "eef43707-723a-440f-bd9f-98e247a88ed1",
   "metadata": {},
   "outputs": [],
   "source": [
    "# Save the processed data\n",
    "processed_df = pd.DataFrame(\n",
    "    processed_data.toarray(),\n",
    "    columns=(\n",
    "        numerical_columns + list(pipeline.named_steps['preprocessor']\n",
    "                                  .transformers_[1][1]\n",
    "                                  .get_feature_names_out(categorical_columns))\n",
    "    )\n",
    ")\n",
    "processed_df.to_csv('processed_IPL_data.csv', index=False)"
   ]
  },
  {
   "cell_type": "code",
   "execution_count": null,
   "id": "eae94f72-53b0-42fc-84ef-efb020521738",
   "metadata": {},
   "outputs": [],
   "source": [
    "print(\"ETL process completed. Processed data saved as 'processed_IPL_data.csv'.\")"
   ]
  }
 ],
 "metadata": {
  "kernelspec": {
   "display_name": "Python 3 (ipykernel)",
   "language": "python",
   "name": "python3"
  },
  "language_info": {
   "codemirror_mode": {
    "name": "ipython",
    "version": 3
   },
   "file_extension": ".py",
   "mimetype": "text/x-python",
   "name": "python",
   "nbconvert_exporter": "python",
   "pygments_lexer": "ipython3",
   "version": "3.12.7"
  }
 },
 "nbformat": 4,
 "nbformat_minor": 5
}
